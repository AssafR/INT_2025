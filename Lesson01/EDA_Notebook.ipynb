{
 "cells": [
  {
   "cell_type": "code",
   "execution_count": null,
   "metadata": {},
   "outputs": [],
   "source": [
    "# EDA on Customer Sales Data\n",
    "\n",
    "## Import Libraries\n",
    "import pandas as pd\n",
    "import numpy as np\n",
    "import matplotlib.pyplot as plt\n",
    "import seaborn as sns\n",
    "\n",
    "# Set plot style\n",
    "sns.set(style=\"whitegrid\")"
   ]
  },
  {
   "cell_type": "code",
   "execution_count": null,
   "metadata": {},
   "outputs": [],
   "source": [
    "## Step 1: Load the Data\n",
    "try:\n",
    "    # Attempt to load with UTF-8 encoding\n",
    "    df = pd.read_csv(\"customer_sales.csv\", encoding=\"utf-8\")\n",
    "except UnicodeDecodeError:\n",
    "    # Fallback to ISO-8859-1 encoding\n",
    "    df = pd.read_csv(\"customer_sales.csv\", encoding=\"ISO-8859-1\")\n",
    "\n",
    "# Display the first few rows of the dataset\n",
    "print(\"\\nDataset Preview:\")\n",
    "print(df.head())"
   ]
  },
  {
   "cell_type": "code",
   "execution_count": null,
   "metadata": {},
   "outputs": [],
   "source": [
    "# Display basic information about the dataset\n",
    "print(\"\\nDataset Info:\")\n",
    "df.info()\n",
    "\n",
    "# Check for missing values\n",
    "print(\"\\nMissing Values:\")\n",
    "print(df.isnull().sum())"
   ]
  },
  {
   "cell_type": "code",
   "execution_count": null,
   "metadata": {},
   "outputs": [],
   "source": [
    "## Step 2: Handle Missing Values\n",
    "# Fill missing values in \"Age\" with the median value\n",
    "df[\"Age\"] = df[\"Age\"].fillna(df[\"Age\"].median())\n",
    "\n",
    "# Confirm that missing values have been handled\n",
    "print(\"\\nMissing Values After Handling:\")\n",
    "print(df.isnull().sum())"
   ]
  },
  {
   "cell_type": "code",
   "execution_count": null,
   "metadata": {},
   "outputs": [],
   "source": [
    "## Step 3: Handle Data Types\n",
    "# Convert \"PurchaseAmount\" to numeric (remove commas if present)\n",
    "df[\"PurchaseAmount\"] = pd.to_numeric(df[\"PurchaseAmount\"].str.replace(\",\", \"\"))\n",
    "\n",
    "# Convert \"PurchaseDate\" to datetime format\n",
    "df[\"PurchaseDate\"] = pd.to_datetime(df[\"PurchaseDate\"])\n",
    "\n",
    "# Display updated data types\n",
    "print(\"\\nData Types After Conversion:\")\n",
    "print(df.dtypes)"
   ]
  },
  {
   "cell_type": "code",
   "execution_count": null,
   "metadata": {},
   "outputs": [],
   "source": [
    "## Step 4: Identify and Handle Outliers\n",
    "# Define a function to detect outliers using the IQR method\n",
    "def detect_outliers(column):\n",
    "    Q1 = column.quantile(0.25)\n",
    "    Q3 = column.quantile(0.75)\n",
    "    IQR = Q3 - Q1\n",
    "    lower_bound = Q1 - 1.5 * IQR\n",
    "    upper_bound = Q3 + 1.5 * IQR\n",
    "    return column[(column < lower_bound) | (column > upper_bound)]\n",
    "\n",
    "# Find outliers in \"Age\" and \"PurchaseAmount\"\n",
    "outliers_age = detect_outliers(df[\"Age\"])\n",
    "outliers_purchase = detect_outliers(df[\"PurchaseAmount\"])\n",
    "\n",
    "print(\"\\nOutliers in Age:\")\n",
    "print(outliers_age)\n",
    "\n",
    "print(\"\\nOutliers in PurchaseAmount:\")\n",
    "print(outliers_purchase)"
   ]
  },
  {
   "cell_type": "code",
   "execution_count": null,
   "metadata": {},
   "outputs": [],
   "source": [
    "## Step 5: Plot Distributions\n",
    "# Age Distribution\n",
    "plt.figure(figsize=(8, 6))\n",
    "df[\"Age\"].hist(bins=10, color=\"skyblue\", edgecolor=\"black\")\n",
    "plt.title(\"Age Distribution\", fontsize=16)\n",
    "plt.xlabel(\"Age\", fontsize=14)\n",
    "plt.ylabel(\"Frequency\", fontsize=14)\n",
    "plt.show()\n",
    "\n",
    "# PurchaseAmount Distribution\n",
    "plt.figure(figsize=(8, 6))\n",
    "df[\"PurchaseAmount\"].hist(bins=10, color=\"lightgreen\", edgecolor=\"black\")\n",
    "plt.title(\"Purchase Amount Distribution\", fontsize=16)\n",
    "plt.xlabel(\"Purchase Amount\", fontsize=14)\n",
    "plt.ylabel(\"Frequency\", fontsize=14)\n",
    "plt.show()\n",
    "\n",
    "# Customer Distribution by Country\n",
    "plt.figure(figsize=(10, 6))\n",
    "df[\"Country\"].value_counts().plot(kind=\"bar\", color=\"coral\", edgecolor=\"black\")\n",
    "plt.title(\"Customer Distribution by Country\", fontsize=16)\n",
    "plt.xlabel(\"Country\", fontsize=14)\n",
    "plt.ylabel(\"Number of Customers\", fontsize=14)\n",
    "plt.xticks(rotation=45)\n",
    "plt.show()"
   ]
  },
  {
   "cell_type": "code",
   "execution_count": null,
   "metadata": {},
   "outputs": [],
   "source": [
    "## Conclusion\n",
    "print(\"Exploratory Data Analysis (EDA) Completed Successfully!\")"
   ]
  }
 ],
 "metadata": {
  "kernelspec": {
   "display_name": "Python 3 (ipykernel)",
   "language": "python",
   "name": "python3"
  },
  "language_info": {
   "codemirror_mode": {
    "name": "ipython",
    "version": 3
   },
   "file_extension": ".py",
   "mimetype": "text/x-python",
   "name": "python",
   "nbconvert_exporter": "python",
   "pygments_lexer": "ipython3",
   "version": "3.10.8"
  }
 },
 "nbformat": 4,
 "nbformat_minor": 4
}
